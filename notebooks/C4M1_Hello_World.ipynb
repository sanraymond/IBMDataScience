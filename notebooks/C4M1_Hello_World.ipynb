{
 "cells": [
  {
   "metadata": {
    "ExecuteTime": {
     "end_time": "2025-06-17T05:59:07.078318Z",
     "start_time": "2025-06-17T05:59:07.074367Z"
    }
   },
   "cell_type": "code",
   "source": "print(\"Hello World\")",
   "id": "f81514ad6d8a863",
   "outputs": [
    {
     "name": "stdout",
     "output_type": "stream",
     "text": [
      "Hello World\n"
     ]
    }
   ],
   "execution_count": 161
  },
  {
   "metadata": {},
   "cell_type": "markdown",
   "source": [
    "## Create a line plot\n",
    "This tutorial shows how to create a line plot"
   ],
   "id": "5ba266bcda56a95b"
  },
  {
   "metadata": {
    "ExecuteTime": {
     "end_time": "2025-06-17T05:59:07.104629Z",
     "start_time": "2025-06-17T05:59:07.101312Z"
    }
   },
   "cell_type": "code",
   "source": [
    "a = [1,2,3,4]\n",
    "b = [-1,-4,-5,-2]"
   ],
   "id": "193f73ad127f6a74",
   "outputs": [],
   "execution_count": 162
  },
  {
   "metadata": {
    "ExecuteTime": {
     "end_time": "2025-06-17T05:59:07.117443Z",
     "start_time": "2025-06-17T05:59:07.114317Z"
    }
   },
   "cell_type": "code",
   "source": "import matplotlib.pyplot as plt",
   "id": "9b02da20f4992237",
   "outputs": [],
   "execution_count": 163
  },
  {
   "metadata": {
    "ExecuteTime": {
     "end_time": "2025-06-17T05:59:07.229688Z",
     "start_time": "2025-06-17T05:59:07.127131Z"
    }
   },
   "cell_type": "code",
   "source": [
    "plt.plot(a,b)\n",
    "plt.show()"
   ],
   "id": "5bbb7a21060ada8b",
   "outputs": [
    {
     "data": {
      "text/plain": [
       "<Figure size 640x480 with 1 Axes>"
      ],
      "image/png": "[encoded data removed]"
     },
     "metadata": {},
     "output_type": "display_data"
    }
   ],
   "execution_count": 164
  },
  {
   "metadata": {
    "ExecuteTime": {
     "end_time": "2025-06-17T05:59:07.246792Z",
     "start_time": "2025-06-17T05:59:07.240217Z"
    }
   },
   "cell_type": "code",
   "source": [
    "# Manipulating String Variables\n",
    "Name =\"Michael Jackson\"\n",
    "print(Name[-1], Name[0], Name[1], Name[0:4], Name[::3], Name[3:13:2])\n",
    "print(len(Name))\n",
    "print(len(Name[::3]))\n",
    "Statement = Name + \" \" + Name[::3]\n",
    "print(Statement)\n",
    "print(3*Statement + Name)\n",
    "print(Name +\"\\t, name of a belated singer\")\n",
    "print(Name +\"\\nmember of the Jackson 5\")\n",
    "print(Name +\" \\\\ Michael Jordan\")\n",
    "print(Name +r\" \\ Michael Jordan\" + r\"\\n will not be forced into a new line\")   # Placing \"r\" in front of the  string so that you don't have to type it twice"
   ],
   "id": "d8f38000d1c2f452",
   "outputs": [
    {
     "name": "stdout",
     "output_type": "stream",
     "text": [
      "n M i Mich Mhlas he ak\n",
      "15\n",
      "5\n",
      "Michael Jackson Mhlas\n",
      "Michael Jackson MhlasMichael Jackson MhlasMichael Jackson MhlasMichael Jackson\n",
      "Michael Jackson\t, name of a belated singer\n",
      "Michael Jackson\n",
      "member of the Jackson 5\n",
      "Michael Jackson \\ Michael Jordan\n",
      "Michael Jackson \\ Michael Jordan\\n will not be forced into a new line\n"
     ]
    }
   ],
   "execution_count": 165
  },
  {
   "metadata": {
    "ExecuteTime": {
     "end_time": "2025-06-17T05:59:07.273187Z",
     "start_time": "2025-06-17T05:59:07.266963Z"
    }
   },
   "cell_type": "code",
   "source": [
    "# String Methods\n",
    "A = (\"Thriller is the sixth studio album\")\n",
    "B = A.upper()\n",
    "print(B)\n",
    "C = Name.replace('Jackson', \"Jordan\")\n",
    "print(C)\n",
    "Name.find(\"el\")"
   ],
   "id": "844f6ca4ba002eba",
   "outputs": [
    {
     "name": "stdout",
     "output_type": "stream",
     "text": [
      "THRILLER IS THE SIXTH STUDIO ALBUM\n",
      "Michael Jordan\n"
     ]
    },
    {
     "data": {
      "text/plain": [
       "5"
      ]
     },
     "execution_count": 166,
     "metadata": {},
     "output_type": "execute_result"
    }
   ],
   "execution_count": 166
  },
  {
   "metadata": {
    "ExecuteTime": {
     "end_time": "2025-06-17T05:59:07.311300Z",
     "start_time": "2025-06-17T05:59:07.305518Z"
    }
   },
   "cell_type": "code",
   "source": [
    "#Format String\n",
    "name = \"John\"\n",
    "age = 30\n",
    "print(f\"My name is {name} and I am {age} years old.\")\n",
    "print(\"My name is {} and I am {} years old.\".format(name, age))\n",
    "print(\"My name is %s and I am %d years old.\" % (name, age))\n",
    "#%s: This is a placeholder for a string.\n",
    "#%d: This is a placeholder for an integer.\n",
    "x = 10\n",
    "y = 20\n",
    "print(f\"The sum of x and y is {x+y}.\")\n",
    "\n",
    "#Raw String\n",
    "regular_string = \"C:\\new_folder\\file.txt\"\n",
    "print(\"Regular String:\", regular_string)\n",
    "raw_string = r\"C:\\new_folder\\file.txt\"\n",
    "print(\"Raw String:\", raw_string)"
   ],
   "id": "eee77609f51e62c4",
   "outputs": [
    {
     "name": "stdout",
     "output_type": "stream",
     "text": [
      "My name is John and I am 30 years old.\n",
      "My name is John and I am 30 years old.\n",
      "My name is John and I am 30 years old.\n",
      "The sum of x and y is 30.\n",
      "Regular String: C:\n",
      "ew_folder\file.txt\n",
      "Raw String: C:\\new_folder\\file.txt\n"
     ]
    }
   ],
   "execution_count": 167
  },
  {
   "metadata": {
    "ExecuteTime": {
     "end_time": "2025-06-17T05:59:07.335424Z",
     "start_time": "2025-06-17T05:59:07.333096Z"
    }
   },
   "cell_type": "code",
   "source": "",
   "id": "b01dd81f1d736253",
   "outputs": [],
   "execution_count": null
  }
 ],
 "metadata": {
  "kernelspec": {
   "display_name": "Python 3",
   "language": "python",
   "name": "python3"
  },
  "language_info": {
   "codemirror_mode": {
    "name": "ipython",
    "version": 2
   },
   "file_extension": ".py",
   "mimetype": "text/x-python",
   "name": "python",
   "nbconvert_exporter": "python",
   "pygments_lexer": "ipython2",
   "version": "2.7.6"
  }
 },
 "nbformat": 4,
 "nbformat_minor": 5
}
