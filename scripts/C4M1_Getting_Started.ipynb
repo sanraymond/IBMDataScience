{
 "cells": [
  {
   "metadata": {},
   "cell_type": "markdown",
   "source": [
    "<p style=\"text-align:center\">\n",
    "    <a href=\"https://skills.network\" target=\"_blank\">\n",
    "    <img src=\"https://cf-courses-data.s3.us.cloud-object-storage.appdomain.cloud/assets/logos/SN_web_lightmode.png\" width=\"300\" alt=\"Skills Network Logo\">\n",
    "    </a>\n",
    "</p>\n",
    "\n",
    "\n",
    "# Writing Your First Python Code\n",
    "\n",
    "\n",
    "Estimated time needed: **10** minutes\n",
    "\n",
    "\n",
    "## Objectives\n",
    "\n",
    "After completing this lab you will be able to:\n",
    "* Write your basic python code"
   ],
   "id": "a06b973f10b819d9"
  },
  {
   "metadata": {},
   "cell_type": "markdown",
   "source": [
    "<h2>Table of Contents</h2>\n",
    "<div class=\"alert alert-block alert-info\" style=\"margin-top: 20px\">\n",
    "    <ul>\n",
    "        <li>\n",
    "            <a href=\"#Say-'Hello'-to-the-world-in-Python\">Say 'Hello' to the world in Python</a>\n",
    "            <ul>\n",
    "                <li><a href=\"#What-version-of-Python-are-we-using?\">What version of Python are we using?</a></li>\n",
    "                <li><a href=\"#Writing-comments-in-Python\">Writing comments in Python</a></li>\n",
    "                <li><a href=\"#Errors-in-Python\">Errors in Python</a></li>\n",
    "                <li><a href=\"#Does-Python-know-about-your-error-before-it-runs-your-code?\">Does Python know about your error before it runs your code?</a></li>\n",
    "                <li><a href=\"#Exercise:-Your-First-Program\">Exercise: Your First Program</a></li>\n",
    "            </ul>\n",
    "        </li>\n",
    "\n",
    "\n"
   ],
   "id": "1156e72afb4d467b"
  },
  {
   "metadata": {},
   "cell_type": "markdown",
   "source": "## Say 'Hello' to the world in Python",
   "id": "cdf778644a3cb0bf"
  },
  {
   "metadata": {},
   "cell_type": "markdown",
   "source": "When learning a new programming language, it is customary to start with an \"hello world\" example. As simple as it is, this one line of code will ensure that we know how to print a string in output and how to execute code within cells in a notebook.",
   "id": "58f7256d168273c6"
  },
  {
   "metadata": {},
   "cell_type": "markdown",
   "source": [
    "<hr/>\n",
    "<div class=\"alert alert-success alertsuccess\" style=\"margin-top: 20px\">\n",
    "[Tip]: To execute the Python code in the code cell below, click on the cell to select it and press <kbd>Shift</kbd> + <kbd>Enter</kbd>.\n",
    "</div>\n",
    "<hr/>\n"
   ],
   "id": "280962f05d984f9b"
  },
  {
   "metadata": {},
   "cell_type": "markdown",
   "source": "### What version of Python are we using?",
   "id": "ee77fd4e9d7abdd2"
  },
  {
   "metadata": {},
   "cell_type": "markdown",
   "source": [
    "<p>\n",
    "    There are two popular versions of the Python programming language in use today: Python 2 and Python 3. The Python community has decided to move on from Python 2 to Python 3, and many popular libraries have announced that they will no longer support Python 2.\n",
    "</p>\n",
    "<p>\n",
    "    Since Python 3 is the future, in this course we will be using it exclusively. How do we know that our notebook is executed by a Python 3 runtime? We can look in the top-right hand corner of this notebook and see \"Python 3\".\n",
    "</p>\n",
    "<p>\n",
    "    We can also ask Python directly and obtain a detailed answer. Try executing the following code:\n",
    "</p>\n"
   ],
   "id": "c057bf5854bafce3"
  },
  {
   "metadata": {
    "ExecuteTime": {
     "end_time": "2025-06-17T04:07:16.356013Z",
     "start_time": "2025-06-17T04:07:16.351197Z"
    }
   },
   "cell_type": "code",
   "source": [
    "# Check the Python Version\n",
    "\n",
    "import sys\n",
    "print(sys.version)"
   ],
   "id": "10e6dc6d3f559bca",
   "outputs": [
    {
     "name": "stdout",
     "output_type": "stream",
     "text": [
      "3.13.1 (tags/v3.13.1:0671451, Dec  3 2024, 19:06:28) [MSC v.1942 64 bit (AMD64)]\n"
     ]
    }
   ],
   "execution_count": 4
  },
  {
   "metadata": {},
   "cell_type": "markdown",
   "source": [
    "<hr/>\n",
    "<div class=\"alert alert-success alertsuccess\" style=\"margin-top: 20px\">\n",
    "    [Tip:] <code>sys</code> is a built-in module that contains many system-specific parameters and functions, including the Python version in use. Before using it, we must explictly <code>import</code> it.\n",
    "</div>\n",
    "<hr/>"
   ],
   "id": "6480113b4c4ce6cd"
  },
  {
   "metadata": {},
   "cell_type": "markdown",
   "source": "### Writing comments in Python",
   "id": "4753166e2d51836"
  }
 ],
 "metadata": {
  "kernelspec": {
   "display_name": "Python 3",
   "language": "python",
   "name": "python3"
  },
  "language_info": {
   "codemirror_mode": {
    "name": "ipython",
    "version": 2
   },
   "file_extension": ".py",
   "mimetype": "text/x-python",
   "name": "python",
   "nbconvert_exporter": "python",
   "pygments_lexer": "ipython2",
   "version": "2.7.6"
  }
 },
 "nbformat": 4,
 "nbformat_minor": 5
}
