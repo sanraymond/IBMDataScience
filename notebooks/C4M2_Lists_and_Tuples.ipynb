{
 "cells": [
  {
   "cell_type": "code",
   "id": "initial_id",
   "metadata": {
    "collapsed": true,
    "ExecuteTime": {
     "end_time": "2025-06-17T07:07:39.850190Z",
     "start_time": "2025-06-17T07:07:39.845674Z"
    }
   },
   "source": [
    "#Tuples\n",
    "Tuple1 = (10,8,3,6,2.13,\"Hello\",3)\n",
    "Tuple2 = Tuple1 + ('哈瑞顿rock', 10)\n",
    "print(Tuple2)\n",
    "Tuple3 = Tuple2[2:8]\n",
    "print(Tuple3)\n",
    "print(len(Tuple3))"
   ],
   "outputs": [
    {
     "name": "stdout",
     "output_type": "stream",
     "text": [
      "(10, 8, 3, 6, 2.13, 'Hello', 3, '哈瑞顿rock', 10)\n",
      "(3, 6, 2.13, 'Hello', 3, '哈瑞顿rock')\n",
      "6\n"
     ]
    }
   ],
   "execution_count": 90
  },
  {
   "metadata": {
    "ExecuteTime": {
     "end_time": "2025-06-17T07:07:39.873028Z",
     "start_time": "2025-06-17T07:07:39.866914Z"
    }
   },
   "cell_type": "code",
   "source": [
    "#Lists\n",
    "List1 = [10,8,3,6,2.13,\"Hello\",3]\n",
    "List2 = List1 + ['哈瑞顿rock', 10]\n",
    "print(List2)\n",
    "List2.append(['append', 1])\n",
    "List3a = List2\n",
    "List3b = List2[:]\n",
    "print(List3a)\n",
    "List2.extend(['extend', 2])\n",
    "List3c = List2\n",
    "print(List3c)\n",
    "List3d = List2 + ['plus', 3]\n",
    "print(List3a)\n",
    "print(List3b)\n",
    "print(List3c)\n",
    "print(List3d)"
   ],
   "id": "4b1ec62bad5b6396",
   "outputs": [
    {
     "name": "stdout",
     "output_type": "stream",
     "text": [
      "[10, 8, 3, 6, 2.13, 'Hello', 3, '哈瑞顿rock', 10]\n",
      "[10, 8, 3, 6, 2.13, 'Hello', 3, '哈瑞顿rock', 10, ['append', 1]]\n",
      "[10, 8, 3, 6, 2.13, 'Hello', 3, '哈瑞顿rock', 10, ['append', 1], 'extend', 2]\n",
      "[10, 8, 3, 6, 2.13, 'Hello', 3, '哈瑞顿rock', 10, ['append', 1], 'extend', 2]\n",
      "[10, 8, 3, 6, 2.13, 'Hello', 3, '哈瑞顿rock', 10, ['append', 1]]\n",
      "[10, 8, 3, 6, 2.13, 'Hello', 3, '哈瑞顿rock', 10, ['append', 1], 'extend', 2]\n",
      "[10, 8, 3, 6, 2.13, 'Hello', 3, '哈瑞顿rock', 10, ['append', 1], 'extend', 2, 'plus', 3]\n"
     ]
    }
   ],
   "execution_count": 91
  },
  {
   "metadata": {
    "ExecuteTime": {
     "end_time": "2025-06-17T07:07:39.897653Z",
     "start_time": "2025-06-17T07:07:39.890420Z"
    }
   },
   "cell_type": "code",
   "source": [
    "my_list = [1, 2, 3, 4, 5]\n",
    "new_list = my_list.copy()\n",
    "print(new_list)\n",
    "# Output: [1, 2, 3, 4, 5]\n",
    "\n",
    "\n",
    "my_list = [1, 2, 2, 3, 4, 2, 5, 2]\n",
    "count = my_list.count(2)\n",
    "print(count)\n",
    "# Output: 4\n",
    "\n",
    "my_list = [10, 20, 30, 40, 50]\n",
    "del my_list[2] # Removes the element at index 2\n",
    "print(my_list)\n",
    "# Output: [10, 20, 40, 50]\n",
    "\n",
    "my_list = [1, 2, 3, 4, 5]\n",
    "my_list.insert(2, 6)\n",
    "print(my_list)\n",
    "\n",
    "my_list = [10, 20, 30, 40, 50]\n",
    "removed_element = my_list.pop(2) # Removes and returns the element at index 2\n",
    "print(removed_element)\n",
    "# Output: 30\n",
    "print(my_list)\n",
    "# Output: [10, 20, 40, 50]\n",
    "\n",
    "my_list = [10, 20, 30, 40, 50]\n",
    "my_list.remove(30) # Removes the element 30\n",
    "print(my_list)\n",
    "# Output: [10, 20, 40, 50]\n",
    "\n",
    "my_list = [1, 2, 3, 4, 5]\n",
    "my_list.reverse()\n",
    "print(my_list)\n",
    "# Output: [5, 4, 3, 2, 1]\n",
    "\n",
    "my_list = [5, 2, 8, 1, 9]\n",
    "my_list.sort(reverse=True)\n",
    "print(my_list)\n",
    "# Output: [9, 8, 5, 2, 1]"
   ],
   "id": "dc11740b792a3a9f",
   "outputs": [
    {
     "name": "stdout",
     "output_type": "stream",
     "text": [
      "[1, 2, 3, 4, 5]\n",
      "4\n",
      "[10, 20, 40, 50]\n",
      "[1, 2, 6, 3, 4, 5]\n",
      "30\n",
      "[10, 20, 40, 50]\n",
      "[10, 20, 40, 50]\n",
      "[5, 4, 3, 2, 1]\n",
      "[9, 8, 5, 2, 1]\n"
     ]
    }
   ],
   "execution_count": 92
  }
 ],
 "metadata": {
  "kernelspec": {
   "display_name": "Python 3",
   "language": "python",
   "name": "python3"
  },
  "language_info": {
   "codemirror_mode": {
    "name": "ipython",
    "version": 2
   },
   "file_extension": ".py",
   "mimetype": "text/x-python",
   "name": "python",
   "nbconvert_exporter": "python",
   "pygments_lexer": "ipython2",
   "version": "2.7.6"
  }
 },
 "nbformat": 4,
 "nbformat_minor": 5
}
